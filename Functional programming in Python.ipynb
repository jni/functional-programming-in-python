{
 "cells": [
  {
   "cell_type": "markdown",
   "metadata": {
    "slideshow": {
     "slide_type": "slide"
    }
   },
   "source": [
    "\n",
    "# Functional programming in Python with toolz and fn.py\n",
    "\n",
    "*Juan Nunez-Iglesias*  \n",
    "*Victorian Life Sciences Computation Initiative*  \n",
    "*University of Melbourne*  \n",
    "\n",
    "This talk is inspired by the work of Matt Rocklin"
   ]
  },
  {
   "cell_type": "markdown",
   "metadata": {
    "slideshow": {
     "slide_type": "slide"
    }
   },
   "source": [
    "\n",
    "# Functional(-style) programming in Python with toolz and fn.py\n",
    "\n",
    "*Juan Nunez-Iglesias*  \n",
    "*Victorian Life Sciences Computation Initiative*  \n",
    "*University of Melbourne*  \n",
    "\n",
    "This talk is inspired by the work of Matt Rocklin"
   ]
  },
  {
   "cell_type": "markdown",
   "metadata": {
    "slideshow": {
     "slide_type": "slide"
    }
   },
   "source": [
    "# What functional programming is to me"
   ]
  },
  {
   "cell_type": "markdown",
   "metadata": {
    "slideshow": {
     "slide_type": "fragment"
    }
   },
   "source": [
    "- y = f(x)"
   ]
  },
  {
   "cell_type": "markdown",
   "metadata": {
    "slideshow": {
     "slide_type": "fragment"
    }
   },
   "source": [
    "- ys = map(f, xs)"
   ]
  },
  {
   "cell_type": "markdown",
   "metadata": {},
   "source": [
    "- z = summary(some_enormous_sequence)"
   ]
  },
  {
   "cell_type": "markdown",
   "metadata": {
    "slideshow": {
     "slide_type": "slide"
    }
   },
   "source": [
    "# What functional programming is not to me (yet?)"
   ]
  },
  {
   "cell_type": "markdown",
   "metadata": {
    "slideshow": {
     "slide_type": "fragment"
    }
   },
   "source": [
    "- x += 1"
   ]
  },
  {
   "cell_type": "markdown",
   "metadata": {
    "slideshow": {
     "slide_type": "fragment"
    }
   },
   "source": [
    "![Monads forbidden](no-monad.png)"
   ]
  },
  {
   "cell_type": "markdown",
   "metadata": {
    "slideshow": {
     "slide_type": "slide"
    }
   },
   "source": [
    "![The SciPy Ecosystem Core](scipy-ecosystem.png)"
   ]
  },
  {
   "cell_type": "code",
   "execution_count": null,
   "metadata": {
    "collapsed": true,
    "slideshow": {
     "slide_type": "subslide"
    }
   },
   "outputs": [],
   "source": [
    "%matplotlib inline\n",
    "import numpy as np\n",
    "from matplotlib import pyplot as plt\n",
    "np.set_printoptions(precision=3, suppress=True)"
   ]
  },
  {
   "cell_type": "markdown",
   "metadata": {
    "slideshow": {
     "slide_type": "slide"
    }
   },
   "source": [
    "# batch programming with NumPy\n",
    "\n",
    "Take the mean of log(r + 1) over all rows r in a dataset"
   ]
  },
  {
   "cell_type": "code",
   "execution_count": null,
   "metadata": {
    "collapsed": false,
    "slideshow": {
     "slide_type": "subslide"
    }
   },
   "outputs": [],
   "source": [
    "import numpy as np\n",
    "\n",
    "fin = 'data/expr.tsv'\n",
    "counts = np.loadtxt(fin)\n",
    "logcounts = np.log(counts + 1)\n",
    "lcmean = np.mean(logcounts, axis=0)\n",
    "\n",
    "print(lcmean)"
   ]
  },
  {
   "cell_type": "markdown",
   "metadata": {
    "slideshow": {
     "slide_type": "slide"
    }
   },
   "source": [
    "# Simple streaming: grep"
   ]
  },
  {
   "cell_type": "code",
   "execution_count": null,
   "metadata": {
    "collapsed": false,
    "slideshow": {
     "slide_type": "subslide"
    }
   },
   "outputs": [],
   "source": [
    "def simplegrep(pattern, filename):\n",
    "    with open(filename) as fin:\n",
    "        for linenum, line in enumerate(fin):\n",
    "            if pattern in line:\n",
    "                print(linenum, ':', line)"
   ]
  },
  {
   "cell_type": "code",
   "execution_count": null,
   "metadata": {
    "collapsed": false,
    "slideshow": {
     "slide_type": "subslide"
    }
   },
   "outputs": [],
   "source": [
    "%ls -l data"
   ]
  },
  {
   "cell_type": "code",
   "execution_count": null,
   "metadata": {
    "collapsed": false,
    "slideshow": {
     "slide_type": "subslide"
    }
   },
   "outputs": [],
   "source": [
    "%%timeit -n 1 -r 1\n",
    "simplegrep('chrUn_DS484746v1', 'data/dm6.fa')"
   ]
  },
  {
   "cell_type": "markdown",
   "metadata": {
    "slideshow": {
     "slide_type": "slide"
    }
   },
   "source": [
    "# A bit harder: multi-function streaming with `yield`"
   ]
  },
  {
   "cell_type": "markdown",
   "metadata": {
    "slideshow": {
     "slide_type": "fragment"
    }
   },
   "source": [
    "Revisiting log-mean"
   ]
  },
  {
   "cell_type": "code",
   "execution_count": null,
   "metadata": {
    "collapsed": false,
    "slideshow": {
     "slide_type": "subslide"
    }
   },
   "outputs": [],
   "source": [
    "import numpy as np\n",
    "\n",
    "def line2array(line):\n",
    "    return np.array(line.rstrip().split(), dtype=float)\n",
    "\n",
    "def readtsv(filename):\n",
    "    with open(filename) as fin:\n",
    "        for i, line in enumerate(fin):\n",
    "            yield line2array(line)\n",
    "\n",
    "def log(arrays_iter):\n",
    "    for i, arr in enumerate(arrays_iter):\n",
    "        yield np.log(arr + 1)\n",
    "\n",
    "def mean(arrays_iter):\n",
    "    for i, arr in enumerate(arrays_iter):\n",
    "        if i == 0:\n",
    "            mean = arr\n",
    "        mean += (arr - mean) / (i + 1)\n",
    "    return mean\n",
    "\n",
    "print(mean(log(readtsv(fin))))"
   ]
  },
  {
   "cell_type": "code",
   "execution_count": null,
   "metadata": {
    "collapsed": true,
    "slideshow": {
     "slide_type": "subslide"
    }
   },
   "outputs": [],
   "source": [
    "import numpy as np\n",
    "\n",
    "def line2array(line):\n",
    "    return np.array(line.rstrip().split(), dtype=float)\n",
    "\n",
    "def readtsvv(filename):\n",
    "    print('starting readtsv')\n",
    "    with open(filename) as fin:\n",
    "        for i, line in enumerate(fin):\n",
    "            print('reading line {}'.format(i))\n",
    "            yield line2array(line)\n",
    "    print('finished readtsv')\n",
    "\n",
    "def logv(arrays_iter):\n",
    "    print('starting log')\n",
    "    for i, arr in enumerate(arrays_iter):\n",
    "        print('taking log of line {}'.format(i))\n",
    "        yield np.log(arr + 1)\n",
    "    print('finished log')\n",
    "\n",
    "def meanv(arrays_iter):\n",
    "    print('starting running mean')\n",
    "    for i, arr in enumerate(arrays_iter):\n",
    "        if i == 0:\n",
    "            mean = arr\n",
    "        mean += (arr - mean) / (i + 1)\n",
    "        print('adding line {} to the running mean'.format(i))\n",
    "    print('returning mean')\n",
    "    return mean"
   ]
  },
  {
   "cell_type": "code",
   "execution_count": null,
   "metadata": {
    "collapsed": false,
    "slideshow": {
     "slide_type": "subslide"
    }
   },
   "outputs": [],
   "source": [
    "print(meanv(logv(readtsvv(fin))))"
   ]
  },
  {
   "cell_type": "markdown",
   "metadata": {
    "slideshow": {
     "slide_type": "slide"
    }
   },
   "source": [
    "# Toolz: making streaming beautiful"
   ]
  },
  {
   "cell_type": "code",
   "execution_count": null,
   "metadata": {
    "collapsed": false,
    "slideshow": {
     "slide_type": "fragment"
    }
   },
   "outputs": [],
   "source": [
    "from toolz import pipe\n",
    "\n",
    "pipe(fin, readtsv, log, mean)"
   ]
  },
  {
   "cell_type": "code",
   "execution_count": null,
   "metadata": {
    "collapsed": false,
    "slideshow": {
     "slide_type": "subslide"
    }
   },
   "outputs": [],
   "source": [
    "from toolz.curried import map  # overriding built-in map\n",
    "\n",
    "def log1(arr):\n",
    "    return np.log(arr + 1)\n",
    "\n",
    "pipe(fin, open,\n",
    "     map(line2array),\n",
    "     map(log1),\n",
    "     mean)"
   ]
  },
  {
   "cell_type": "markdown",
   "metadata": {
    "slideshow": {
     "slide_type": "slide"
    }
   },
   "source": [
    "# Fn.py: even more functional fun\n",
    "\n",
    "(Though we'll just use nice lambdas here.)"
   ]
  },
  {
   "cell_type": "code",
   "execution_count": null,
   "metadata": {
    "collapsed": false,
    "slideshow": {
     "slide_type": "subslide"
    }
   },
   "outputs": [],
   "source": [
    "from fn import _ as x\n",
    "\n",
    "pipe(fin, open,\n",
    "     map(line2array),\n",
    "     map(x + 1), map(np.log),\n",
    "     mean)"
   ]
  },
  {
   "cell_type": "markdown",
   "metadata": {
    "slideshow": {
     "slide_type": "slide"
    }
   },
   "source": [
    "# Curry all the things!"
   ]
  },
  {
   "cell_type": "code",
   "execution_count": null,
   "metadata": {
    "collapsed": false
   },
   "outputs": [],
   "source": [
    "from toolz import curry\n",
    "\n",
    "array = curry(np.array)\n",
    "\n",
    "pipe(fin, open,\n",
    "     map(str.rstrip), map(str.split), map(array(dtype=float)),\n",
    "     map(x + 1), map(np.log),\n",
    "     mean)"
   ]
  },
  {
   "cell_type": "code",
   "execution_count": null,
   "metadata": {
    "collapsed": false
   },
   "outputs": [],
   "source": [
    "from toolz import compose\n",
    "\n",
    "line2array = compose(array(dtype=float), str.split, str.rstrip)"
   ]
  },
  {
   "cell_type": "markdown",
   "metadata": {
    "slideshow": {
     "slide_type": "slide"
    }
   },
   "source": [
    "# Streaming PCA"
   ]
  },
  {
   "cell_type": "code",
   "execution_count": null,
   "metadata": {
    "collapsed": true,
    "slideshow": {
     "slide_type": "subslide"
    }
   },
   "outputs": [],
   "source": [
    "from toolz import last\n",
    "from toolz.curried import partition\n",
    "from sklearn import decomposition\n",
    "\n",
    "def streaming_pca(samples, n_components=2, batch_size=50):\n",
    "    ipca = decomposition.IncrementalPCA(n_components=n_components,\n",
    "                                        batch_size=batch_size)\n",
    "    last(pipe(samples,                 # iterator of 1D arrays\n",
    "              partition(batch_size),   # iterator of tuples of 1D arrays\n",
    "              map(np.array),           # iterator of 2D arrays\n",
    "              map(ipca.partial_fit)))  # partial_fit on each\n",
    "    return ipca"
   ]
  },
  {
   "cell_type": "code",
   "execution_count": null,
   "metadata": {
    "collapsed": true,
    "slideshow": {
     "slide_type": "subslide"
    }
   },
   "outputs": [],
   "source": [
    "pca = pipe('data/iris_data.txt', open,\n",
    "           map(line2array),\n",
    "           streaming_pca)"
   ]
  },
  {
   "cell_type": "code",
   "execution_count": null,
   "metadata": {
    "collapsed": false,
    "slideshow": {
     "slide_type": "fragment"
    }
   },
   "outputs": [],
   "source": [
    "Xt = pipe('data/iris_data.txt', open,\n",
    "          map(line2array),\n",
    "          map(np.atleast_2d),\n",
    "          map(pca.transform),\n",
    "          list, np.squeeze)"
   ]
  },
  {
   "cell_type": "code",
   "execution_count": null,
   "metadata": {
    "collapsed": true,
    "slideshow": {
     "slide_type": "subslide"
    }
   },
   "outputs": [],
   "source": [
    "from matplotlib import pyplot as plt\n",
    "\n",
    "def plot_embedding(X, y):\n",
    "    x_min, x_max = np.min(X, axis=0), np.max(X, axis=0)\n",
    "    X = (X - x_min) / (x_max - x_min)\n",
    "\n",
    "    plt.figure()\n",
    "    ax = plt.subplot(111)\n",
    "    for i in range(X.shape[0]):\n",
    "        plt.scatter(X[i, 0], X[i, 1],\n",
    "                    color=plt.cm.Set1(y[i] / 10.))\n",
    "    plt.xticks([]), plt.yticks([])"
   ]
  },
  {
   "cell_type": "code",
   "execution_count": null,
   "metadata": {
    "collapsed": false,
    "slideshow": {
     "slide_type": "subslide"
    }
   },
   "outputs": [],
   "source": [
    "y = np.loadtxt('data/iris_target.txt')\n",
    "plot_embedding(Xt, y)"
   ]
  },
  {
   "cell_type": "markdown",
   "metadata": {
    "slideshow": {
     "slide_type": "slide"
    }
   },
   "source": [
    "# k-mer counting\n",
    "\n",
    "15-mer  \n",
    "\"to be or nob to”  \n",
    "much less frequent than  \n",
    "“to be or not to\""
   ]
  },
  {
   "cell_type": "code",
   "execution_count": null,
   "metadata": {
    "collapsed": true,
    "slideshow": {
     "slide_type": "subslide"
    }
   },
   "outputs": [],
   "source": [
    "from toolz import concat, frequencies\n",
    "from toolz.curried import sliding_window, filter\n",
    "\n",
    "def is_sequence(line):\n",
    "    return not line.startswith('>')\n",
    "\n",
    "\n",
    "k = 7\n",
    "counts = tz.pipe('data/sample.fasta', open,\n",
    "                 filter(is_sequence),  # discard names\n",
    "                 map(str.rstrip),\n",
    "                 map(sliding_window(k)),  # apply sliding to each\n",
    "                 concat,  # k-mers as char tuples\n",
    "                 map(''.join),  # k-mers\n",
    "                 frequencies)\n",
    "\n",
    "counts = list(counts.values())"
   ]
  },
  {
   "cell_type": "code",
   "execution_count": null,
   "metadata": {
    "collapsed": true,
    "slideshow": {
     "slide_type": "subslide"
    }
   },
   "outputs": [],
   "source": [
    "def integer_histogram(counts, *args, **kwargs):\n",
    "    hist = np.bincount(counts)\n",
    "    hist = hist / np.sum(hist)\n",
    "    return plt.plot(1 + np.arange(len(hist)), hist, *args, **kwargs)"
   ]
  },
  {
   "cell_type": "code",
   "execution_count": null,
   "metadata": {
    "collapsed": false,
    "slideshow": {
     "slide_type": "subslide"
    }
   },
   "outputs": [],
   "source": [
    "integer_histogram(counts, lw=2)\n",
    "plt.xlim(-1, 250)"
   ]
  },
  {
   "cell_type": "markdown",
   "metadata": {
    "slideshow": {
     "slide_type": "slide"
    }
   },
   "source": [
    "# Genome markov model"
   ]
  },
  {
   "cell_type": "code",
   "execution_count": null,
   "metadata": {
    "collapsed": true,
    "slideshow": {
     "slide_type": "subslide"
    }
   },
   "outputs": [],
   "source": [
    "import itertools as it\n",
    "\n",
    "LDICT = dict(zip('ACGTacgt', range(8)))\n",
    "PDICT = {(a, b): (LDICT[a], LDICT[b])\n",
    "         for a, b in it.product(LDICT, LDICT)}\n",
    "\n",
    "def is_nucleotide(letter):\n",
    "    return letter in LDICT  # ignore 'N'\n",
    "\n",
    "\n",
    "@curry\n",
    "def increment_model(model, index):\n",
    "    model[index] += 1"
   ]
  },
  {
   "cell_type": "code",
   "execution_count": null,
   "metadata": {
    "collapsed": true,
    "slideshow": {
     "slide_type": "subslide"
    }
   },
   "outputs": [],
   "source": [
    "def genome(filename):\n",
    "    \"\"\"Stream a genome, letter by letter, from a fasta file.\"\"\"\n",
    "    return pipe(filename, open,\n",
    "                filter(is_sequence),    # drop header from each sequence\n",
    "                concat,                 # concatenate chars from all lines\n",
    "                filter(is_nucleotide))  # discard newlines and 'N'"
   ]
  },
  {
   "cell_type": "code",
   "execution_count": null,
   "metadata": {
    "collapsed": true,
    "slideshow": {
     "slide_type": "subslide"
    }
   },
   "outputs": [],
   "source": [
    "def markov(seq):\n",
    "    \"\"\"Get a 1st-order Markov model from a sequence of nucleotides.\"\"\"\n",
    "    model = np.zeros((8, 8))\n",
    "    last(pipe(seq, sliding_window(2),        # each successive tuple\n",
    "              map(PDICT.__getitem__),        # location in matrix of tuple\n",
    "              map(increment_model(model))))  # increment matrix\n",
    "    # convert counts to transition probability matrix\n",
    "    model /= np.sum(model, axis=1)[:, np.newaxis]\n",
    "    return model"
   ]
  },
  {
   "cell_type": "code",
   "execution_count": null,
   "metadata": {
    "collapsed": false,
    "slideshow": {
     "slide_type": "-"
    }
   },
   "outputs": [],
   "source": [
    "from toolz.curried import take\n",
    "\n",
    "dm = 'data/dm6.fa'\n",
    "import timeit\n",
    "\n",
    "t0 = timeit.default_timer()\n",
    "m = tz.pipe(dm, genome, take(int(1e6)), markov)\n",
    "t1 = timeit.default_timer()\n",
    "\n",
    "sec = t1 - t0\n",
    "print(\"processed 1MB in %.1fmin\" % (sec / 60))\n",
    "print(\"throughput: %.2fMBps\" % (1 / sec))"
   ]
  },
  {
   "cell_type": "code",
   "execution_count": null,
   "metadata": {
    "collapsed": false,
    "slideshow": {
     "slide_type": "subslide"
    }
   },
   "outputs": [],
   "source": [
    "print('    ', '      '.join('ACGTacgt'), '\\n')\n",
    "print(m)"
   ]
  },
  {
   "cell_type": "code",
   "execution_count": null,
   "metadata": {
    "collapsed": false,
    "slideshow": {
     "slide_type": "subslide"
    }
   },
   "outputs": [],
   "source": [
    "plt.imshow(m, cmap='inferno', interpolation='nearest');\n",
    "plt.colorbar();\n",
    "ax = plt.gca()\n",
    "ax.set_xticklabels(' ACGTacgt');\n",
    "ax.set_yticklabels(' ACGTacgt');"
   ]
  },
  {
   "cell_type": "markdown",
   "metadata": {
    "slideshow": {
     "slide_type": "slide"
    }
   },
   "source": [
    "<center><img src='giovanni.jpg' width=\"400\"></center>\n",
    "\n",
    "(CC) Manu Cornet http://www.bonkersworld.net/all-engineers-are-the-same/"
   ]
  }
 ],
 "metadata": {
  "celltoolbar": "Slideshow",
  "kernelspec": {
   "display_name": "Python 3",
   "language": "python",
   "name": "python3"
  },
  "language_info": {
   "codemirror_mode": {
    "name": "ipython",
    "version": 3
   },
   "file_extension": ".py",
   "mimetype": "text/x-python",
   "name": "python",
   "nbconvert_exporter": "python",
   "pygments_lexer": "ipython3",
   "version": "3.5.1"
  }
 },
 "nbformat": 4,
 "nbformat_minor": 0
}
